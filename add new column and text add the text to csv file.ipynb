{
 "cells": [
  {
   "cell_type": "code",
   "execution_count": 23,
   "id": "e288b8c2",
   "metadata": {
    "scrolled": true
   },
   "outputs": [
    {
     "name": "stdout",
     "output_type": "stream",
     "text": [
      "New empty column added to the CSV file.\n"
     ]
    }
   ],
   "source": [
    "#add new column\n",
    "import csv\n",
    "\n",
    "new_column_header = \"Text files\"\n",
    "\n",
    "# Open the existing CSV file for reading\n",
    "with open('P:\\\\Desktop\\\\Thesis data\\\\final.csv', mode='r') as read_file:\n",
    "    csv_reader = csv.reader(read_file)\n",
    "    \n",
    "    # Read the existing rows\n",
    "    rows = list(csv_reader)\n",
    "    \n",
    "    # Add the new column header to the first row\n",
    "    rows[0].append(new_column_header)\n",
    "    \n",
    "    # Add an empty value for laterfilled in text\n",
    "    for i in range(1, len(rows)):\n",
    "        rows[i].append(\"\")\n",
    "    \n",
    "# Open the CSV file in write mode to update with the new empty column\n",
    "with open('P:\\\\Desktop\\\\Thesis data\\\\final_data.csv', mode='w', newline='') as write_file:\n",
    "    csv_writer = csv.writer(write_file)\n",
    "    \n",
    "    # Write the updated rows back to the file\n",
    "    csv_writer.writerows(rows)\n",
    "\n",
    "print(\"New empty column added to the CSV file.\")\n",
    "\n"
   ]
  },
  {
   "cell_type": "code",
   "execution_count": 8,
   "id": "7ff3f10f",
   "metadata": {},
   "outputs": [
    {
     "name": "stdout",
     "output_type": "stream",
     "text": [
      "master.csv has been saved.\n"
     ]
    }
   ],
   "source": [
    "import csv\n",
    "import os\n",
    "import pandas as pd\n",
    "\n",
    "# Define the header columns\n",
    "header_columns = [\n",
    "    'oasis ids', 'early medieval', 'late mesolithic', 'medieval', 'post medieval',\n",
    "    'later prehistoric', 'early iron age', 'middle palaeolithic', 'neolithic',\n",
    "    'late iron age', 'bronze age', 'early bronze age', 'late prehistoric', 'roman',\n",
    "    'middle iron age', 'late neolithic', 'early neolithic', 'middle bronze age',\n",
    "    'early mesolithic', 'lower palaeolithic', 'upper palaeolithic', 'late bronze age',\n",
    "    'palaeolithic', 'early prehistoric', 'mesolithic', '20th century',\n",
    "    'middle neolithic', 'iron age', 'nil antiquity', 'Text files'\n",
    "]\n",
    "\n",
    "# Create a new empty dataframe\n",
    "master_df = pd.DataFrame(columns=header_columns)\n",
    "\n",
    "# Define paths\n",
    "text_files_directory = r'ADS-dump-UTF8\\\\'\n",
    "\n",
    "# Open the CSV file for reading\n",
    "csv_file_path = r'P:\\Desktop\\Thesis data\\final.csv'\n",
    "with open(csv_file_path, mode='r', newline='', encoding='utf-8') as csv_file:\n",
    "    csv_reader = csv.reader(csv_file)\n",
    "    # Get the header row to identify columns\n",
    "    header_row = next(csv_reader)\n",
    "    \n",
    "    # Iterate through the rows in the CSV file\n",
    "    for row in csv_reader:\n",
    "        oasis_id = row[0]\n",
    "\n",
    "        # Check if the corresponding text file exists\n",
    "        text_file_path = os.path.join(text_files_directory, oasis_id + '_1.txt')\n",
    "        if os.path.exists(text_file_path):\n",
    "            # Read the text content and extract the first 1000 words\n",
    "            with open(text_file_path, 'r', encoding='utf-8') as text_file:\n",
    "                text_content = text_file.read()\n",
    "                # Replace line endings with spaces\n",
    "                text_content = text_content.replace('\\r', ' ').replace('\\n', ' ')\n",
    "                text_first_1000_words = ' '.join(text_content.split()[:1000])\n",
    "                \n",
    "                import nltk\n",
    "                 # download stopwords file (only needs to run once!)\n",
    "                #nltk.download('stopwords')\n",
    "                \n",
    "                # tokenize the text\n",
    "                from nltk.tokenize import word_tokenize\n",
    "                tokenized_text = word_tokenize(text_first_1000_words)\n",
    "\n",
    "\n",
    "                # make stopwords list\n",
    "                from nltk.corpus import stopwords\n",
    "                stopwords = stopwords.words('english')\n",
    "\n",
    "                # make punctuation list\n",
    "                from string import punctuation\n",
    "                punctuation = list(punctuation)\n",
    "\n",
    "                # remove stopwords and punctuation from text\n",
    "                cleaned_tokens = [token for token in tokenized_text if token not in stopwords and token not in punctuation]\n",
    "\n",
    "                # change tokens list back to string\n",
    "                cleaned_text = ''.join(cleaned_tokens).lower()\n",
    "                \n",
    "                new_row = [oasis_id, 0, 0, 0, 0, 0, 0, 0, 0, 0, 0, 0, 0, 0, 0, 0, 0, 0, 0, 0, 0, 0, 0, 0, 0, 0, 0, 0, 0, cleaned_text]\n",
    "                # Append the new row to the master_df\n",
    "                master_df.loc[len(master_df)] = new_row\n",
    "                \n",
    "                 # Check if any of the specified conditions are in columns 1 to 13\n",
    "                periods = [\n",
    "                    'early medieval', 'late mesolithic', 'medieval', 'post medieval',\n",
    "                    'later prehistoric', 'early iron age', 'middle palaeolithic', 'neolithic',\n",
    "                    'late iron age', 'bronze age', 'early bronze age', 'late prehistoric', 'roman',\n",
    "                    'middle iron age', 'late neolithic', 'early neolithic', 'middle bronze age',\n",
    "                    'early mesolithic', 'lower palaeolithic', 'upper palaeolithic', 'late bronze age',\n",
    "                    'palaeolithic', 'early prehistoric', 'mesolithic', '20th century',\n",
    "                    'middle neolithic', 'iron age', 'nil antiquity'\n",
    "                ]\n",
    "                # Check if any of the periods are in columns 1 to 13\n",
    "                for period in periods:\n",
    "                    if period in row[1:14]:  # Adjusted to include up to the 13th column\n",
    "                        # If the condition is met, add 1 to the corresponding column in master_df\n",
    "                        master_df.loc[len(master_df) - 1, period] = 1\n",
    "\n",
    "# Save the resulting master_df to a CSV file\n",
    "master_df.to_csv(r'P:\\Desktop\\Thesis data\\master.csv', index=False)\n",
    "print(\"master.csv has been saved.\")\n"
   ]
  },
  {
   "cell_type": "code",
   "execution_count": 1,
   "id": "6ae260f3",
   "metadata": {
    "scrolled": true
   },
   "outputs": [
    {
     "name": "stdout",
     "output_type": "stream",
     "text": [
      "hello world\n"
     ]
    }
   ],
   "source": [
    "# As requested by Amira\n",
    "print(\"hello world\")"
   ]
  },
  {
   "cell_type": "code",
   "execution_count": null,
   "id": "7180ce4c",
   "metadata": {},
   "outputs": [],
   "source": []
  }
 ],
 "metadata": {
  "kernelspec": {
   "display_name": "Python 3 (ipykernel)",
   "language": "python",
   "name": "python3"
  },
  "language_info": {
   "codemirror_mode": {
    "name": "ipython",
    "version": 3
   },
   "file_extension": ".py",
   "mimetype": "text/x-python",
   "name": "python",
   "nbconvert_exporter": "python",
   "pygments_lexer": "ipython3",
   "version": "3.9.13"
  }
 },
 "nbformat": 4,
 "nbformat_minor": 5
}
