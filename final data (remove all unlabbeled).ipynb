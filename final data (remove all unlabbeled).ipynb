{
 "cells": [
  {
   "cell_type": "code",
   "execution_count": 1,
   "id": "6ad28abd",
   "metadata": {},
   "outputs": [],
   "source": [
    "import csv\n",
    "\n",
    "# Define the CSV file path and new store\n",
    "input_file_path = 'P:/Desktop/Thesis data/sorted_data.csv'\n",
    "output_file_path = 'P:/Desktop/Thesis data/final.csv'\n",
    "\n",
    "# Open the input and output CSV files\n",
    "with open(input_file_path, 'r', newline='') as input_file, open(output_file_path, 'w', newline='') as output_file:\n",
    "    csv_reader = csv.reader(input_file)\n",
    "    csv_writer = csv.writer(output_file)\n",
    "\n",
    "     # Skip the first row\n",
    "    next(csv_reader)\n",
    "\n",
    "    first_row = next(csv_reader)\n",
    "    csv_writer.writerow(first_row)\n",
    "    \n",
    "    for row in csv_reader:\n",
    "        # Check if all values from the second to the thirteenth are empty strings\n",
    "        if all(value == '' for value in row[1:13]):\n",
    "            continue  # Skip this row\n",
    "        else:\n",
    "            csv_writer.writerow(row)   "
   ]
  },
  {
   "cell_type": "code",
   "execution_count": null,
   "id": "8f3b176e",
   "metadata": {},
   "outputs": [],
   "source": []
  },
  {
   "cell_type": "code",
   "execution_count": null,
   "id": "f095ac0d",
   "metadata": {},
   "outputs": [],
   "source": []
  }
 ],
 "metadata": {
  "kernelspec": {
   "display_name": "Python 3 (ipykernel)",
   "language": "python",
   "name": "python3"
  },
  "language_info": {
   "codemirror_mode": {
    "name": "ipython",
    "version": 3
   },
   "file_extension": ".py",
   "mimetype": "text/x-python",
   "name": "python",
   "nbconvert_exporter": "python",
   "pygments_lexer": "ipython3",
   "version": "3.9.13"
  }
 },
 "nbformat": 4,
 "nbformat_minor": 5
}
